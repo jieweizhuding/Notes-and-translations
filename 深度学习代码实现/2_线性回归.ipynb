{
 "cells": [
  {
   "cell_type": "markdown",
   "id": "cfea2267",
   "metadata": {},
   "source": [
    "线性回归模型是监督模型中的内容，其解释方向可以通过几何角度或GLM解释\n",
    "在具体代码实现前，需要对数据进行处理，这一步一般是复杂的。"
   ]
  }
 ],
 "metadata": {
  "kernelspec": {
   "display_name": "Python 3",
   "language": "python",
   "name": "python3"
  },
  "language_info": {
   "name": "python",
   "version": "3.11.11"
  }
 },
 "nbformat": 4,
 "nbformat_minor": 5
}
