{
 "cells": [
  {
   "cell_type": "markdown",
   "id": "9a927f66",
   "metadata": {},
   "source": [
    "随机梯度下降需要loss function参数的迭代方向"
   ]
  }
 ],
 "metadata": {
  "kernelspec": {
   "display_name": "Python 3",
   "language": "python",
   "name": "python3"
  },
  "language_info": {
   "name": "python",
   "version": "3.11.11"
  }
 },
 "nbformat": 4,
 "nbformat_minor": 5
}
