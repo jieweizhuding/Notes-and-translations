{
 "cells": [
  {
   "cell_type": "code",
   "execution_count": 16,
   "id": "def3544c",
   "metadata": {},
   "outputs": [
    {
     "data": {
      "text/plain": [
       "(array([[15, 17, 19, 21, 23],\n",
       "        [25, 27, 29, 31, 33],\n",
       "        [35, 37, 39, 41, 43]]),\n",
       " array([[15, 18, 21, 24, 27],\n",
       "        [60, 63, 66, 69, 72]]),\n",
       " array([[[ 0,  1,  2,  3,  4],\n",
       "         [ 5,  6,  7,  8,  9],\n",
       "         [10, 11, 12, 13, 14]],\n",
       " \n",
       "        [[15, 16, 17, 18, 19],\n",
       "         [20, 21, 22, 23, 24],\n",
       "         [25, 26, 27, 28, 29]]]))"
      ]
     },
     "execution_count": 16,
     "metadata": {},
     "output_type": "execute_result"
    }
   ],
   "source": [
    "import numpy as np;\n",
    "\n",
    "a=np.arange(30).reshape(2,3,5)\n",
    "a.sum((0)),a.sum((1)),a\n"
   ]
  },
  {
   "cell_type": "markdown",
   "id": "a973dc7e",
   "metadata": {},
   "source": [
    "通过np的函数实现对矩阵的操作\n",
    "按照参数传入的类型，可以将函数分为3类：\n",
    "部分函数无需参数\n",
    "```\n",
    "a.shape\n",
    "a.size\n",
    "```\n",
    "部分函数参数为矩阵如\n",
    "```\n",
    "np.arange()\n",
    "np.array()\n",
    "```\n",
    "对于最后一种函数的输入，因为不能在设计函数时就确定输入值的个数，因此一般用括号将同种的变量括起来\n",
    "```\n",
    "np.ones((2,5))\n",
    "np.zeros((3,4))\n",
    "np.reshape((2,6))\n",
    "np.concat((a,b),0)\n",
    "```\n",
    "而一般的基础运算比如+-等等，均默认改为对元素的操作\n",
    "而若操作符两边的张量形状不同，则python会有广播机制：\n",
    "从最右侧的维度开始，逐维比较两个数组的形状。\n",
    "    如果两个维度相等或其中一个为1，则兼容。\n",
    "    如果其中一个数组的维度缺失（即长度不足），则在该维度上虚拟扩展为1。\n",
    "会将1维度进行复制以匹配高维"
   ]
  },
  {
   "cell_type": "markdown",
   "id": "0264fca1",
   "metadata": {},
   "source": [
    "元素的存取\n",
    "单个元素\n",
    "```\n",
    "a[1,2]\n",
    "```\n",
    "范围存取\n",
    "```\n",
    "a[-1,:]=>a的最后1行，所有列\n",
    "a[3:7:2,2:9:3]=>a的3到6行，隔2行取一次，2到9列，隔3列取一次\n",
    "```"
   ]
  }
 ],
 "metadata": {
  "kernelspec": {
   "display_name": "Python 3",
   "language": "python",
   "name": "python3"
  },
  "language_info": {
   "codemirror_mode": {
    "name": "ipython",
    "version": 3
   },
   "file_extension": ".py",
   "mimetype": "text/x-python",
   "name": "python",
   "nbconvert_exporter": "python",
   "pygments_lexer": "ipython3",
   "version": "3.11.11"
  }
 },
 "nbformat": 4,
 "nbformat_minor": 5
}
